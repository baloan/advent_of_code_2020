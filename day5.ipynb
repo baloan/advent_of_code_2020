{
 "cells": [
  {
   "cell_type": "code",
   "execution_count": 2,
   "metadata": {},
   "outputs": [
    {
     "name": "stdout",
     "output_type": "stream",
     "text": [
      "BFFFBBFRRR 567\n"
     ]
    }
   ],
   "source": [
    "TT = str.maketrans(\"FBLR\", \"0101\")\n",
    "seat = \"BFFFBBFRRR\"\n",
    "bin_seat = seat.translate(TT)\n",
    "seat_id = int(bin_seat, 2)\n",
    "print(seat, seat_id)"
   ]
  }
 ],
 "metadata": {
  "kernelspec": {
   "display_name": "Python 3",
   "language": "python",
   "name": "python3"
  },
  "language_info": {
   "codemirror_mode": {
    "name": "ipython",
    "version": 3
   },
   "file_extension": ".py",
   "mimetype": "text/x-python",
   "name": "python",
   "nbconvert_exporter": "python",
   "pygments_lexer": "ipython3",
   "version": "3.8.5"
  }
 },
 "nbformat": 4,
 "nbformat_minor": 4
}
